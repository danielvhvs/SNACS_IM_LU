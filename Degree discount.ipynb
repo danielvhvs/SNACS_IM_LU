{
 "cells": [
  {
   "cell_type": "code",
   "execution_count": 128,
   "metadata": {},
   "outputs": [],
   "source": [
    "import numpy as np\n",
    "import networkx as nx\n",
    "import matplotlib.pyplot as plt"
   ]
  },
  {
   "cell_type": "code",
   "execution_count": 165,
   "metadata": {},
   "outputs": [],
   "source": [
    "G = nx.gnm_random_graph(15000, 60000)\n",
    "\n",
    "# nx.draw(G, with_labels=True)"
   ]
  },
  {
   "cell_type": "code",
   "execution_count": 105,
   "metadata": {},
   "outputs": [],
   "source": [
    "def get_d(degree: list[list]|list[tuple]|nx.classes.reportviews.DegreeView) -> list:\n",
    "    '''Get a list of degrees from a (converted) DegreeView'''\n",
    "    return [d for v, d in degree]\n",
    "\n",
    "def get_v(degree: list[list]|list[tuple]|nx.classes.reportviews.DegreeView) -> list:\n",
    "    '''Get a list of verteces from a (converted) DegreeView'''\n",
    "    return [v for v, d in degree]"
   ]
  },
  {
   "cell_type": "code",
   "execution_count": 136,
   "metadata": {},
   "outputs": [],
   "source": [
    "import random\n",
    "\n",
    "def random_sd(G: nx.Graph, k):\n",
    "    return [random.randint(0, G.number_of_nodes()-1) for _ in range(k)]"
   ]
  },
  {
   "cell_type": "markdown",
   "metadata": {},
   "source": [
    "### SingleDiscount"
   ]
  },
  {
   "cell_type": "code",
   "execution_count": null,
   "metadata": {},
   "outputs": [],
   "source": [
    "def SD(G: nx.Graph, k: int) -> list[int]:\n",
    "    seed = []\n",
    "\n",
    "    dd = [list(d) for d in G.degree()]\n",
    "\n",
    "    for _ in range(k):\n",
    "        u = dd.pop(np.argmax(get_d(dd)))[0]\n",
    "        seed.append(u)\n",
    "        for v in G.neighbors(u):\n",
    "            if v in seed:\n",
    "                break\n",
    "            for w in G.neighbors(v):\n",
    "                if w in seed:\n",
    "                    dd[get_v(dd).index(v)][1] -= 1\n",
    "\n",
    "    return seed\n",
    "k = 50\n",
    "SD(G, k)"
   ]
  },
  {
   "cell_type": "markdown",
   "metadata": {},
   "source": [
    "### DegreeDiscountIC"
   ]
  },
  {
   "cell_type": "code",
   "execution_count": null,
   "metadata": {},
   "outputs": [],
   "source": [
    "p = 0.01\n",
    "\n",
    "def DDIC(G: nx.Graph, k: int) -> list[int]:\n",
    "    seed = []\n",
    "    t = np.zeros(len(G))\n",
    "\n",
    "    dd = [list(d) for d in G.degree()]\n",
    "\n",
    "    for _ in range(k):\n",
    "        u = dd.pop(np.argmax(get_d(dd)))[0]\n",
    "        seed.append(u)\n",
    "        for v in G.neighbors(u):\n",
    "            if v in seed:\n",
    "                break\n",
    "            t[v] += 1\n",
    "            d_v = G.degree(v)\n",
    "            dd[get_v(dd).index(v)][1] = d_v - 2*t[v] - (d_v - t[v])*t[v]*p\n",
    "\n",
    "    return seed\n",
    "\n",
    "k = 50\n",
    "\n",
    "DDIC(G, k)"
   ]
  },
  {
   "cell_type": "code",
   "execution_count": 154,
   "metadata": {},
   "outputs": [],
   "source": [
    "# source: https://hautahi.com/ic_comparison\n",
    "\n",
    "\n",
    "def propagate_nx(g,p,new_active):\n",
    "\n",
    "    targets = []\n",
    "    for node in new_active:\n",
    "        targets += g.neighbors(node)\n",
    "\n",
    "    return(targets)\n",
    "\n",
    "def IC(graph_object,S,p,mc):\n",
    "    \"\"\"\n",
    "    Inputs: graph_object: 4 possible network representations\n",
    "                - igraph object\n",
    "                - Networkx object\n",
    "                - E x 2 Pandas dataframe of directed edges. Columns: ['source','target']\n",
    "                - dictionary with key=source node & values=out-neighbors\n",
    "            S:  List of seed nodes\n",
    "            p:  Disease propagation probability\n",
    "            mc: Number of Monte-Carlo simulations,\n",
    "    Output: Average number of nodes influenced by seed nodes in S\n",
    "    \"\"\"\n",
    "\n",
    "    # Loop over the Monte-Carlo Simulations\n",
    "    spread = []\n",
    "    for i in range(mc):\n",
    "\n",
    "        # Simulate propagation process\n",
    "        new_active, A = S[:], S[:]\n",
    "        while new_active:\n",
    "\n",
    "            # 1. Find out-neighbors for each newly active node\n",
    "            targets = propagate_nx(graph_object,p,new_active)\n",
    "\n",
    "\n",
    "            # 2. Determine newly activated neighbors (set seed and sort for consistency)\n",
    "            np.random.seed(i)\n",
    "            success = np.random.uniform(0,1,len(targets)) < p\n",
    "            new_ones = list(np.extract(success, sorted(targets)))\n",
    "\n",
    "            # 3. Find newly activated nodes and add to the set of activated nodes\n",
    "            new_active = list(set(new_ones) - set(A))\n",
    "            A += new_active\n",
    "\n",
    "        spread.append(len(A))\n",
    "\n",
    "    return(np.mean(spread),A)"
   ]
  },
  {
   "cell_type": "code",
   "execution_count": null,
   "metadata": {},
   "outputs": [],
   "source": [
    "mc = 20\n",
    "\n",
    "data = []\n",
    "for k in range(1,50):\n",
    "    data.append(IC(G, DDIC(G, k), p, mc)[0])\n",
    "plt.plot(data)\n",
    "\n",
    "data = []\n",
    "for k in range(1,50):\n",
    "    data.append(IC(G, SD(G, k), p, mc)[0])\n",
    "plt.plot(data)\n",
    "\n",
    "data = []\n",
    "for k in range(1,50):\n",
    "    data.append(IC(G, random_sd(G, k), p, mc)[0])\n",
    "plt.plot(data)\n"
   ]
  }
 ],
 "metadata": {
  "kernelspec": {
   "display_name": ".venv",
   "language": "python",
   "name": "python3"
  },
  "language_info": {
   "codemirror_mode": {
    "name": "ipython",
    "version": 3
   },
   "file_extension": ".py",
   "mimetype": "text/x-python",
   "name": "python",
   "nbconvert_exporter": "python",
   "pygments_lexer": "ipython3",
   "version": "3.11.2"
  }
 },
 "nbformat": 4,
 "nbformat_minor": 2
}
